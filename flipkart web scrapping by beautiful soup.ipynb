{
 "cells": [
  {
   "cell_type": "code",
   "execution_count": 1,
   "id": "83929a7e",
   "metadata": {},
   "outputs": [
    {
     "name": "stderr",
     "output_type": "stream",
     "text": [
      "C:\\Users\\HP\\anaconda3\\lib\\site-packages\\numpy\\_distributor_init.py:30: UserWarning: loaded more than 1 DLL from .libs:\n",
      "C:\\Users\\HP\\anaconda3\\lib\\site-packages\\numpy\\.libs\\libopenblas.fb5ae2tyxyh2ijrdkgdgq3xbklktf43h.gfortran-win_amd64.dll\n",
      "C:\\Users\\HP\\anaconda3\\lib\\site-packages\\numpy\\.libs\\libopenblas.PYQHXLVVQ7VESDPUVUADXEVJOBGHJPAY.gfortran-win_amd64.dll\n",
      "C:\\Users\\HP\\anaconda3\\lib\\site-packages\\numpy\\.libs\\libopenblas.WCDJNK7YVMPZQ2ME2ZZHJJRJ3JIKNDB7.gfortran-win_amd64.dll\n",
      "  warnings.warn(\"loaded more than 1 DLL from .libs:\"\n"
     ]
    }
   ],
   "source": [
    "# import all liberaies\n",
    "import pandas as pd\n",
    "from bs4 import BeautifulSoup\n",
    "import requests"
   ]
  },
  {
   "cell_type": "code",
   "execution_count": 2,
   "id": "db369480",
   "metadata": {},
   "outputs": [],
   "source": [
    "# make a all necessary product list\n",
    "product_name=[]\n",
    "prices=[]\n",
    "descriptions=[]\n",
    "reviews=[]\n"
   ]
  },
  {
   "cell_type": "code",
   "execution_count": 3,
   "id": "f97286b6",
   "metadata": {},
   "outputs": [],
   "source": [
    "# fetch data from url\n",
    "for i in range(1,76):\n",
    "    url=\"https://www.flipkart.com/search?q=laptop&otracker=search&otracker\"+str(i)\n",
    "    r=requests.get(url)\n",
    "    soup=BeautifulSoup(r.text, \"lxml\")\n",
    "    box=soup.find(\"div\",class_=\"_1YokD2 _3Mn1Gg\")\n",
    "    \n",
    "    \n",
    "    names=box.find_all(\"div\",class_=\"_4rR01T\")\n",
    "    for i in names:\n",
    "        name=i.text\n",
    "        product_name.append(name)\n",
    "    #print(product_name)\n",
    "\n",
    "\n",
    "    price=box.find_all(\"div\", class_=\"_30jeq3 _1_WHN1\")\n",
    "    for i in price:\n",
    "        name=i.text\n",
    "        prices.append(name)\n",
    "    #print(prices)\n",
    "\n",
    "\n",
    "    desc=box.find_all(\"ul\",class_=\"_1xgFaf\")\n",
    "    for i in desc:\n",
    "        name=i.text\n",
    "        descriptions.append(name)\n",
    "    #print(descriptions)\n",
    "    \n",
    "\n",
    "    review=box.find_all(\"div\",class_=\"_3LWZlK\")\n",
    "    for i in review:\n",
    "        name=i.text\n",
    "        reviews.append(name)\n",
    "    #print(reviews)"
   ]
  },
  {
   "cell_type": "code",
   "execution_count": 4,
   "id": "337ce215",
   "metadata": {},
   "outputs": [],
   "source": [
    "# make dict of all column\n",
    "df={\"productname\":product_name,\"prices\":prices,\"descriptions\":descriptions,\"raitng & reviews\":reviews}"
   ]
  },
  {
   "cell_type": "code",
   "execution_count": 5,
   "id": "f89b9f56",
   "metadata": {},
   "outputs": [],
   "source": [
    "# dataframe\n",
    "dict_df = pd.DataFrame({ key:pd.Series(value) for key, value in df.items() })"
   ]
  },
  {
   "cell_type": "code",
   "execution_count": 6,
   "id": "c1d83cf1",
   "metadata": {},
   "outputs": [
    {
     "data": {
      "text/html": [
       "<div>\n",
       "<style scoped>\n",
       "    .dataframe tbody tr th:only-of-type {\n",
       "        vertical-align: middle;\n",
       "    }\n",
       "\n",
       "    .dataframe tbody tr th {\n",
       "        vertical-align: top;\n",
       "    }\n",
       "\n",
       "    .dataframe thead th {\n",
       "        text-align: right;\n",
       "    }\n",
       "</style>\n",
       "<table border=\"1\" class=\"dataframe\">\n",
       "  <thead>\n",
       "    <tr style=\"text-align: right;\">\n",
       "      <th></th>\n",
       "      <th>productname</th>\n",
       "      <th>prices</th>\n",
       "      <th>descriptions</th>\n",
       "      <th>raitng &amp; reviews</th>\n",
       "    </tr>\n",
       "  </thead>\n",
       "  <tbody>\n",
       "    <tr>\n",
       "      <th>0</th>\n",
       "      <td>HP Chromebook x360 Intel Celeron Quad Core - (...</td>\n",
       "      <td>₹19,990</td>\n",
       "      <td>Intel Celeron Quad Core Processor4 GB LPDDR4 R...</td>\n",
       "      <td>3.8</td>\n",
       "    </tr>\n",
       "    <tr>\n",
       "      <th>1</th>\n",
       "      <td>HP Chromebook x360 Intel Celeron Dual Core - (...</td>\n",
       "      <td>₹19,990</td>\n",
       "      <td>Intel Celeron Dual Core Processor4 GB LPDDR4 R...</td>\n",
       "      <td>3.8</td>\n",
       "    </tr>\n",
       "    <tr>\n",
       "      <th>2</th>\n",
       "      <td>ASUS Vivobook 15 Core i5 11th Gen - (8 GB/512 ...</td>\n",
       "      <td>₹42,990</td>\n",
       "      <td>Intel Core i5 Processor (11th Gen)8 GB DDR4 RA...</td>\n",
       "      <td>4.3</td>\n",
       "    </tr>\n",
       "    <tr>\n",
       "      <th>3</th>\n",
       "      <td>APPLE 2020 Macbook Air M1 - (8 GB/256 GB SSD/M...</td>\n",
       "      <td>₹81,990</td>\n",
       "      <td>Apple M1 Processor8 GB DDR4 RAMMac OS Operatin...</td>\n",
       "      <td>4.7</td>\n",
       "    </tr>\n",
       "    <tr>\n",
       "      <th>4</th>\n",
       "      <td>ASUS Vivobook 15 Core i3 11th Gen - (8 GB/512 ...</td>\n",
       "      <td>₹34,990</td>\n",
       "      <td>Intel Core i3 Processor (11th Gen)8 GB DDR4 RA...</td>\n",
       "      <td>4.2</td>\n",
       "    </tr>\n",
       "    <tr>\n",
       "      <th>...</th>\n",
       "      <td>...</td>\n",
       "      <td>...</td>\n",
       "      <td>...</td>\n",
       "      <td>...</td>\n",
       "    </tr>\n",
       "    <tr>\n",
       "      <th>1795</th>\n",
       "      <td>HP 15s (2023) Ryzen 3 Dual Core 3250U - (8 GB/...</td>\n",
       "      <td>₹33,990</td>\n",
       "      <td>AMD Ryzen 3 Dual Core Processor8 GB DDR4 RAMWi...</td>\n",
       "      <td>NaN</td>\n",
       "    </tr>\n",
       "    <tr>\n",
       "      <th>1796</th>\n",
       "      <td>Lenovo Ryzen 3 Quad Core 7320U - (8 GB/512 GB ...</td>\n",
       "      <td>₹36,990</td>\n",
       "      <td>AMD Ryzen 3 Quad Core Processor8 GB LPDDR5 RAM...</td>\n",
       "      <td>NaN</td>\n",
       "    </tr>\n",
       "    <tr>\n",
       "      <th>1797</th>\n",
       "      <td>Lenovo Ideapad Gaming 3 Intel Core i5 11th Gen...</td>\n",
       "      <td>₹52,990</td>\n",
       "      <td>Intel Core i5 Processor (11th Gen)16 GB DDR4 R...</td>\n",
       "      <td>NaN</td>\n",
       "    </tr>\n",
       "    <tr>\n",
       "      <th>1798</th>\n",
       "      <td>HP 247 G8 Athlon Dual Core AMD Athlon P3045B -...</td>\n",
       "      <td>₹23,990</td>\n",
       "      <td>AMD Athlon Dual Core Processor8 GB DDR4 RAMWin...</td>\n",
       "      <td>NaN</td>\n",
       "    </tr>\n",
       "    <tr>\n",
       "      <th>1799</th>\n",
       "      <td>ASUS Vivobook 14 Core i3 11th Gen - (8 GB/512 ...</td>\n",
       "      <td>₹34,990</td>\n",
       "      <td>Intel Core i3 Processor (11th Gen)8 GB DDR4 RA...</td>\n",
       "      <td>NaN</td>\n",
       "    </tr>\n",
       "  </tbody>\n",
       "</table>\n",
       "<p>1800 rows × 4 columns</p>\n",
       "</div>"
      ],
      "text/plain": [
       "                                            productname   prices  \\\n",
       "0     HP Chromebook x360 Intel Celeron Quad Core - (...  ₹19,990   \n",
       "1     HP Chromebook x360 Intel Celeron Dual Core - (...  ₹19,990   \n",
       "2     ASUS Vivobook 15 Core i5 11th Gen - (8 GB/512 ...  ₹42,990   \n",
       "3     APPLE 2020 Macbook Air M1 - (8 GB/256 GB SSD/M...  ₹81,990   \n",
       "4     ASUS Vivobook 15 Core i3 11th Gen - (8 GB/512 ...  ₹34,990   \n",
       "...                                                 ...      ...   \n",
       "1795  HP 15s (2023) Ryzen 3 Dual Core 3250U - (8 GB/...  ₹33,990   \n",
       "1796  Lenovo Ryzen 3 Quad Core 7320U - (8 GB/512 GB ...  ₹36,990   \n",
       "1797  Lenovo Ideapad Gaming 3 Intel Core i5 11th Gen...  ₹52,990   \n",
       "1798  HP 247 G8 Athlon Dual Core AMD Athlon P3045B -...  ₹23,990   \n",
       "1799  ASUS Vivobook 14 Core i3 11th Gen - (8 GB/512 ...  ₹34,990   \n",
       "\n",
       "                                           descriptions raitng & reviews  \n",
       "0     Intel Celeron Quad Core Processor4 GB LPDDR4 R...              3.8  \n",
       "1     Intel Celeron Dual Core Processor4 GB LPDDR4 R...              3.8  \n",
       "2     Intel Core i5 Processor (11th Gen)8 GB DDR4 RA...              4.3  \n",
       "3     Apple M1 Processor8 GB DDR4 RAMMac OS Operatin...              4.7  \n",
       "4     Intel Core i3 Processor (11th Gen)8 GB DDR4 RA...              4.2  \n",
       "...                                                 ...              ...  \n",
       "1795  AMD Ryzen 3 Dual Core Processor8 GB DDR4 RAMWi...              NaN  \n",
       "1796  AMD Ryzen 3 Quad Core Processor8 GB LPDDR5 RAM...              NaN  \n",
       "1797  Intel Core i5 Processor (11th Gen)16 GB DDR4 R...              NaN  \n",
       "1798  AMD Athlon Dual Core Processor8 GB DDR4 RAMWin...              NaN  \n",
       "1799  Intel Core i3 Processor (11th Gen)8 GB DDR4 RA...              NaN  \n",
       "\n",
       "[1800 rows x 4 columns]"
      ]
     },
     "execution_count": 6,
     "metadata": {},
     "output_type": "execute_result"
    }
   ],
   "source": [
    "dict_df"
   ]
  },
  {
   "cell_type": "code",
   "execution_count": 7,
   "id": "6f7a22d4",
   "metadata": {},
   "outputs": [
    {
     "data": {
      "text/plain": [
       "'HP Chromebook x360 Intel Celeron Quad Core - (4 GB/64 GB EMMC Storage/Chrome OS) 14a-ca0504TU Chromebo...'"
      ]
     },
     "execution_count": 7,
     "metadata": {},
     "output_type": "execute_result"
    }
   ],
   "source": [
    "dict_df['productname'][0]"
   ]
  },
  {
   "cell_type": "code",
   "execution_count": 8,
   "id": "a00a793f",
   "metadata": {},
   "outputs": [],
   "source": [
    "# Apply a lambda function to remove content after the first (-)\n",
    "dict_df['productname']=dict_df['productname'].apply(lambda text: text.split('-')[0].strip())"
   ]
  },
  {
   "cell_type": "code",
   "execution_count": 9,
   "id": "02ed0a40",
   "metadata": {},
   "outputs": [
    {
     "data": {
      "text/plain": [
       "'HP Chromebook x360 Intel Celeron Dual Core'"
      ]
     },
     "execution_count": 9,
     "metadata": {},
     "output_type": "execute_result"
    }
   ],
   "source": [
    "dict_df['productname'][1]"
   ]
  },
  {
   "cell_type": "code",
   "execution_count": 10,
   "id": "96854d3c",
   "metadata": {},
   "outputs": [],
   "source": [
    "# Extract the desired substrings using list comprehension\n",
    "dict_df['otherinfo']=[name.split('-')[1].split(')')[0] for name in product_name]\n",
    "\n"
   ]
  },
  {
   "cell_type": "code",
   "execution_count": 11,
   "id": "cd15e2ab",
   "metadata": {},
   "outputs": [
    {
     "data": {
      "text/html": [
       "<div>\n",
       "<style scoped>\n",
       "    .dataframe tbody tr th:only-of-type {\n",
       "        vertical-align: middle;\n",
       "    }\n",
       "\n",
       "    .dataframe tbody tr th {\n",
       "        vertical-align: top;\n",
       "    }\n",
       "\n",
       "    .dataframe thead th {\n",
       "        text-align: right;\n",
       "    }\n",
       "</style>\n",
       "<table border=\"1\" class=\"dataframe\">\n",
       "  <thead>\n",
       "    <tr style=\"text-align: right;\">\n",
       "      <th></th>\n",
       "      <th>productname</th>\n",
       "      <th>prices</th>\n",
       "      <th>descriptions</th>\n",
       "      <th>raitng &amp; reviews</th>\n",
       "      <th>otherinfo</th>\n",
       "    </tr>\n",
       "  </thead>\n",
       "  <tbody>\n",
       "    <tr>\n",
       "      <th>0</th>\n",
       "      <td>HP Chromebook x360 Intel Celeron Quad Core</td>\n",
       "      <td>₹19,990</td>\n",
       "      <td>Intel Celeron Quad Core Processor4 GB LPDDR4 R...</td>\n",
       "      <td>3.8</td>\n",
       "      <td>(4 GB/64 GB EMMC Storage/Chrome OS</td>\n",
       "    </tr>\n",
       "    <tr>\n",
       "      <th>1</th>\n",
       "      <td>HP Chromebook x360 Intel Celeron Dual Core</td>\n",
       "      <td>₹19,990</td>\n",
       "      <td>Intel Celeron Dual Core Processor4 GB LPDDR4 R...</td>\n",
       "      <td>3.8</td>\n",
       "      <td>(4 GB/64 GB EMMC Storage/Chrome OS</td>\n",
       "    </tr>\n",
       "    <tr>\n",
       "      <th>2</th>\n",
       "      <td>ASUS Vivobook 15 Core i5 11th Gen</td>\n",
       "      <td>₹42,990</td>\n",
       "      <td>Intel Core i5 Processor (11th Gen)8 GB DDR4 RA...</td>\n",
       "      <td>4.3</td>\n",
       "      <td>(8 GB/512 GB SSD/Windows 11 Home</td>\n",
       "    </tr>\n",
       "    <tr>\n",
       "      <th>3</th>\n",
       "      <td>APPLE 2020 Macbook Air M1</td>\n",
       "      <td>₹81,990</td>\n",
       "      <td>Apple M1 Processor8 GB DDR4 RAMMac OS Operatin...</td>\n",
       "      <td>4.7</td>\n",
       "      <td>(8 GB/256 GB SSD/Mac OS Big Sur</td>\n",
       "    </tr>\n",
       "    <tr>\n",
       "      <th>4</th>\n",
       "      <td>ASUS Vivobook 15 Core i3 11th Gen</td>\n",
       "      <td>₹34,990</td>\n",
       "      <td>Intel Core i3 Processor (11th Gen)8 GB DDR4 RA...</td>\n",
       "      <td>4.2</td>\n",
       "      <td>(8 GB/512 GB SSD/Windows 11 Home</td>\n",
       "    </tr>\n",
       "    <tr>\n",
       "      <th>...</th>\n",
       "      <td>...</td>\n",
       "      <td>...</td>\n",
       "      <td>...</td>\n",
       "      <td>...</td>\n",
       "      <td>...</td>\n",
       "    </tr>\n",
       "    <tr>\n",
       "      <th>1795</th>\n",
       "      <td>HP 15s (2023) Ryzen 3 Dual Core 3250U</td>\n",
       "      <td>₹33,990</td>\n",
       "      <td>AMD Ryzen 3 Dual Core Processor8 GB DDR4 RAMWi...</td>\n",
       "      <td>NaN</td>\n",
       "      <td>(8 GB/512 GB SSD/Windows 11 Home</td>\n",
       "    </tr>\n",
       "    <tr>\n",
       "      <th>1796</th>\n",
       "      <td>Lenovo Ryzen 3 Quad Core 7320U</td>\n",
       "      <td>₹36,990</td>\n",
       "      <td>AMD Ryzen 3 Quad Core Processor8 GB LPDDR5 RAM...</td>\n",
       "      <td>NaN</td>\n",
       "      <td>(8 GB/512 GB SSD/Windows 11 Home</td>\n",
       "    </tr>\n",
       "    <tr>\n",
       "      <th>1797</th>\n",
       "      <td>Lenovo Ideapad Gaming 3 Intel Core i5 11th Gen</td>\n",
       "      <td>₹52,990</td>\n",
       "      <td>Intel Core i5 Processor (11th Gen)16 GB DDR4 R...</td>\n",
       "      <td>NaN</td>\n",
       "      <td>(16 GB/512 GB SSD/Windows 11 Home/4 GB Graphi...</td>\n",
       "    </tr>\n",
       "    <tr>\n",
       "      <th>1798</th>\n",
       "      <td>HP 247 G8 Athlon Dual Core AMD Athlon P3045B</td>\n",
       "      <td>₹23,990</td>\n",
       "      <td>AMD Athlon Dual Core Processor8 GB DDR4 RAMWin...</td>\n",
       "      <td>NaN</td>\n",
       "      <td>(8 GB/1 TB HDD/Windows 11 Home</td>\n",
       "    </tr>\n",
       "    <tr>\n",
       "      <th>1799</th>\n",
       "      <td>ASUS Vivobook 14 Core i3 11th Gen</td>\n",
       "      <td>₹34,990</td>\n",
       "      <td>Intel Core i3 Processor (11th Gen)8 GB DDR4 RA...</td>\n",
       "      <td>NaN</td>\n",
       "      <td>(8 GB/512 GB SSD/Windows 11 Home</td>\n",
       "    </tr>\n",
       "  </tbody>\n",
       "</table>\n",
       "<p>1800 rows × 5 columns</p>\n",
       "</div>"
      ],
      "text/plain": [
       "                                         productname   prices  \\\n",
       "0         HP Chromebook x360 Intel Celeron Quad Core  ₹19,990   \n",
       "1         HP Chromebook x360 Intel Celeron Dual Core  ₹19,990   \n",
       "2                  ASUS Vivobook 15 Core i5 11th Gen  ₹42,990   \n",
       "3                          APPLE 2020 Macbook Air M1  ₹81,990   \n",
       "4                  ASUS Vivobook 15 Core i3 11th Gen  ₹34,990   \n",
       "...                                              ...      ...   \n",
       "1795           HP 15s (2023) Ryzen 3 Dual Core 3250U  ₹33,990   \n",
       "1796                  Lenovo Ryzen 3 Quad Core 7320U  ₹36,990   \n",
       "1797  Lenovo Ideapad Gaming 3 Intel Core i5 11th Gen  ₹52,990   \n",
       "1798    HP 247 G8 Athlon Dual Core AMD Athlon P3045B  ₹23,990   \n",
       "1799               ASUS Vivobook 14 Core i3 11th Gen  ₹34,990   \n",
       "\n",
       "                                           descriptions raitng & reviews  \\\n",
       "0     Intel Celeron Quad Core Processor4 GB LPDDR4 R...              3.8   \n",
       "1     Intel Celeron Dual Core Processor4 GB LPDDR4 R...              3.8   \n",
       "2     Intel Core i5 Processor (11th Gen)8 GB DDR4 RA...              4.3   \n",
       "3     Apple M1 Processor8 GB DDR4 RAMMac OS Operatin...              4.7   \n",
       "4     Intel Core i3 Processor (11th Gen)8 GB DDR4 RA...              4.2   \n",
       "...                                                 ...              ...   \n",
       "1795  AMD Ryzen 3 Dual Core Processor8 GB DDR4 RAMWi...              NaN   \n",
       "1796  AMD Ryzen 3 Quad Core Processor8 GB LPDDR5 RAM...              NaN   \n",
       "1797  Intel Core i5 Processor (11th Gen)16 GB DDR4 R...              NaN   \n",
       "1798  AMD Athlon Dual Core Processor8 GB DDR4 RAMWin...              NaN   \n",
       "1799  Intel Core i3 Processor (11th Gen)8 GB DDR4 RA...              NaN   \n",
       "\n",
       "                                              otherinfo  \n",
       "0                    (4 GB/64 GB EMMC Storage/Chrome OS  \n",
       "1                    (4 GB/64 GB EMMC Storage/Chrome OS  \n",
       "2                      (8 GB/512 GB SSD/Windows 11 Home  \n",
       "3                       (8 GB/256 GB SSD/Mac OS Big Sur  \n",
       "4                      (8 GB/512 GB SSD/Windows 11 Home  \n",
       "...                                                 ...  \n",
       "1795                   (8 GB/512 GB SSD/Windows 11 Home  \n",
       "1796                   (8 GB/512 GB SSD/Windows 11 Home  \n",
       "1797   (16 GB/512 GB SSD/Windows 11 Home/4 GB Graphi...  \n",
       "1798                     (8 GB/1 TB HDD/Windows 11 Home  \n",
       "1799                   (8 GB/512 GB SSD/Windows 11 Home  \n",
       "\n",
       "[1800 rows x 5 columns]"
      ]
     },
     "execution_count": 11,
     "metadata": {},
     "output_type": "execute_result"
    }
   ],
   "source": [
    "dict_df"
   ]
  },
  {
   "cell_type": "code",
   "execution_count": 12,
   "id": "a991b826",
   "metadata": {},
   "outputs": [
    {
     "data": {
      "text/plain": [
       "0                      (4 GB/64 GB EMMC Storage/Chrome OS\n",
       "1                      (4 GB/64 GB EMMC Storage/Chrome OS\n",
       "2                        (8 GB/512 GB SSD/Windows 11 Home\n",
       "3                         (8 GB/256 GB SSD/Mac OS Big Sur\n",
       "4                        (8 GB/512 GB SSD/Windows 11 Home\n",
       "                              ...                        \n",
       "1795                     (8 GB/512 GB SSD/Windows 11 Home\n",
       "1796                     (8 GB/512 GB SSD/Windows 11 Home\n",
       "1797     (16 GB/512 GB SSD/Windows 11 Home/4 GB Graphi...\n",
       "1798                       (8 GB/1 TB HDD/Windows 11 Home\n",
       "1799                     (8 GB/512 GB SSD/Windows 11 Home\n",
       "Name: otherinfo, Length: 1800, dtype: object"
      ]
     },
     "execution_count": 12,
     "metadata": {},
     "output_type": "execute_result"
    }
   ],
   "source": [
    "dict_df['otherinfo']"
   ]
  },
  {
   "cell_type": "code",
   "execution_count": null,
   "id": "1126c55d",
   "metadata": {},
   "outputs": [],
   "source": []
  },
  {
   "cell_type": "code",
   "execution_count": 13,
   "id": "fc7a79d6",
   "metadata": {},
   "outputs": [
    {
     "data": {
      "text/plain": [
       "'Intel Celeron Quad Core Processor4 GB LPDDR4 RAM64 bit Chrome Operating System35.56 cm (14 Inch) Touchscreen Display1 Year Onsite warranty'"
      ]
     },
     "execution_count": 13,
     "metadata": {},
     "output_type": "execute_result"
    }
   ],
   "source": [
    "dict_df['descriptions'][0]"
   ]
  },
  {
   "cell_type": "code",
   "execution_count": 14,
   "id": "8ec8f272",
   "metadata": {},
   "outputs": [
    {
     "data": {
      "text/plain": [
       "'Intel Celeron Dual Core Processor4 GB LPDDR4 RAM64 bit Chrome Operating System35.56 cm (14 Inch) Touchscreen Display1 Year Onsite Warranty'"
      ]
     },
     "execution_count": 14,
     "metadata": {},
     "output_type": "execute_result"
    }
   ],
   "source": [
    "dict_df['descriptions'][1]"
   ]
  },
  {
   "cell_type": "code",
   "execution_count": 15,
   "id": "347ff9db",
   "metadata": {},
   "outputs": [
    {
     "name": "stdout",
     "output_type": "stream",
     "text": [
      "<class 'pandas.core.frame.DataFrame'>\n",
      "RangeIndex: 1800 entries, 0 to 1799\n",
      "Data columns (total 5 columns):\n",
      " #   Column            Non-Null Count  Dtype \n",
      "---  ------            --------------  ----- \n",
      " 0   productname       1800 non-null   object\n",
      " 1   prices            1800 non-null   object\n",
      " 2   descriptions      1800 non-null   object\n",
      " 3   raitng & reviews  1725 non-null   object\n",
      " 4   otherinfo         1800 non-null   object\n",
      "dtypes: object(5)\n",
      "memory usage: 70.4+ KB\n"
     ]
    }
   ],
   "source": [
    "dict_df.info()"
   ]
  },
  {
   "cell_type": "code",
   "execution_count": 16,
   "id": "8b45ffc4",
   "metadata": {},
   "outputs": [],
   "source": [
    "dict_df.to_csv('Flipkartdataset.csv')"
   ]
  },
  {
   "cell_type": "code",
   "execution_count": null,
   "id": "78f9bfd0",
   "metadata": {},
   "outputs": [],
   "source": []
  },
  {
   "cell_type": "code",
   "execution_count": null,
   "id": "78b48bd1",
   "metadata": {},
   "outputs": [],
   "source": []
  }
 ],
 "metadata": {
  "kernelspec": {
   "display_name": "Python 3 (ipykernel)",
   "language": "python",
   "name": "python3"
  },
  "language_info": {
   "codemirror_mode": {
    "name": "ipython",
    "version": 3
   },
   "file_extension": ".py",
   "mimetype": "text/x-python",
   "name": "python",
   "nbconvert_exporter": "python",
   "pygments_lexer": "ipython3",
   "version": "3.8.8"
  }
 },
 "nbformat": 4,
 "nbformat_minor": 5
}
